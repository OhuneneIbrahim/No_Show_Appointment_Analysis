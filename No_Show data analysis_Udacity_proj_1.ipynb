{
 "cells": [
  {
   "cell_type": "markdown",
   "id": "a852396e",
   "metadata": {},
   "source": [
    "\n",
    "# Project: Investigate a Dataset - [No-show appointments]\n",
    "\n",
    "## Table of Contents\n",
    "<ul>\n",
    "<li><a href=\"#intro\">Introduction</a></li>\n",
    "<li><a href=\"#wrangling\">Data Wrangling</a></li>\n",
    "<li><a href=\"#eda\">Exploratory Data Analysis</a></li>\n",
    "<li><a href=\"#conclusions\">Conclusions</a></li>\n",
    "</ul>"
   ]
  },
  {
   "cell_type": "markdown",
   "id": "4ab5d9b0",
   "metadata": {},
   "source": [
    "<a id='intro'></a>\n",
    "## Introduction\n",
    "\n",
    "### Dataset Attributes\n",
    "\n",
    ">**About dataset**: This dataset collects information from 100k medical appointments in Brazil and is focused on the question of whether or not patients show up for their appointment.  \n",
    "\n",
    "> **Dataset Features:** The variables featured in the dataset which are 14 in number are as outlined as follows:\n",
    "\n",
    "> 1.) ***PatientId:*** The identification of the patient\n",
    "\n",
    "> 2.) ***AppointmentID:*** The identification of each appointment\n",
    "\n",
    "> 3.) ***Gender:*** Male or Female . Female is the greater proportion, woman takes way more care of they health in                         comparison to man.\n",
    "  \n",
    "> 4.) ***Age:*** The age of the patient.\n",
    "\n",
    "> 5.) ***Hipertension:*** True or False which has been translated into 0 for False and 1 for True.\n",
    "\n",
    "> 6.) ***Diabetes:*** True or False which has been translated into 0 for False and 1 for True.\n",
    "\n",
    "> 7.) ***Alcoholism:*** True or False which has been translated into 0 for False and 1 for True.\n",
    "\n",
    "> 9.) ***Handcap:*** True or False which has been translated into 0 for False and 1 for True.\n",
    "\n",
    ">10.) ***ScheduledDay:*** tells us on what day the patient set up their appointment.\n",
    "\n",
    ">11.) ***Neighborhood:*** indicates the location of the hospital. \n",
    "\n",
    ">12.) ***AppointmentDay:*** indicates the actual day of the appointment.\n",
    "\n",
    ">13.) ***Scholarship:*** indicates whether or not the patient is enrolled in Brasilian welfare program Bolsa Família hear https://en.wikipedia.org/wiki/Bolsa_Fam%C3%ADlia.\n",
    "\n",
    ">14.) ***No-show:*** This indicates wether or not a patient shows up for their appointmnet. It says ‘No’ if the patient showed up to their appointment, and ‘Yes’ if they did not show up .\n",
    "\n",
    "\n",
    "\n",
    "### Question(s) for Analysis\n",
    ">Some questions we would like to answer are as follows:\n",
    "\n",
    ">**Question:** What factors are important for us to know in order to predict if a patient will show up for their scheduled appointment? We are going to break this questions into components.\n",
    " \n",
    ">(a) Do people with at least one of these characteristics like Hypertension, Diabetes, Alcoholism, Handicap, scholarship, sms_recieved likely to show up more ?\n",
    "\n",
    ">(b) Does gender determine if a person will show up or not? And if women with alcoholism is likely to show up for and appointment than men.\n",
    "\n",
    ">Before exploring the dataset to answer the above questions, the data set will be reviewed, cleaned (that is check for missing values, duplicate values, incorrect datatypes, incorrect data value and so on.), statistical operations will be performed to get more insight on the dataset, and some visualizations like histograms and barplots will be used to see the distributions of the dataset.\n",
    "\n",
    "With these questions in mind, we proceed to load in our data.\n",
    "\n",
    "We import numpy and pandas for numerical manupulation of the data, and matplotlib for visualizing the data. "
   ]
  },
  {
   "cell_type": "code",
   "execution_count": 258,
   "id": "ab1e42e3",
   "metadata": {},
   "outputs": [],
   "source": [
    "#Importing all the relevant libraries.\n",
    "import numpy as np\n",
    "import pandas as pd\n",
    "import matplotlib.pyplot as plt \n",
    "%matplotlib inline"
   ]
  },
  {
   "cell_type": "markdown",
   "id": "31fb0679",
   "metadata": {},
   "source": [
    "<a id='wrangling'></a>\n",
    "## Data Wrangling\n",
    "\n",
    ">In this section of the report, the data will loaded, checked for cleanliness, and then trim and clean the dataset for analysis. This section will be divided into two parts. (i) General Properties and (ii) Data cleaning\n",
    "\n",
    "### General Properties\n",
    ">In this part, we will explore the data with respect to the shape, the datatypes of the various variables, the statistical summaries of the variables, check out missing data and duplicated data."
   ]
  },
  {
   "cell_type": "code",
   "execution_count": 259,
   "id": "80af5c6b",
   "metadata": {},
   "outputs": [
    {
     "data": {
      "text/html": [
       "<div>\n",
       "<style scoped>\n",
       "    .dataframe tbody tr th:only-of-type {\n",
       "        vertical-align: middle;\n",
       "    }\n",
       "\n",
       "    .dataframe tbody tr th {\n",
       "        vertical-align: top;\n",
       "    }\n",
       "\n",
       "    .dataframe thead th {\n",
       "        text-align: right;\n",
       "    }\n",
       "</style>\n",
       "<table border=\"1\" class=\"dataframe\">\n",
       "  <thead>\n",
       "    <tr style=\"text-align: right;\">\n",
       "      <th></th>\n",
       "      <th>PatientId</th>\n",
       "      <th>AppointmentID</th>\n",
       "      <th>Gender</th>\n",
       "      <th>ScheduledDay</th>\n",
       "      <th>AppointmentDay</th>\n",
       "      <th>Age</th>\n",
       "      <th>Neighbourhood</th>\n",
       "      <th>Scholarship</th>\n",
       "      <th>Hipertension</th>\n",
       "      <th>Diabetes</th>\n",
       "      <th>Alcoholism</th>\n",
       "      <th>Handcap</th>\n",
       "      <th>SMS_received</th>\n",
       "      <th>No-show</th>\n",
       "    </tr>\n",
       "  </thead>\n",
       "  <tbody>\n",
       "    <tr>\n",
       "      <th>0</th>\n",
       "      <td>2.987250e+13</td>\n",
       "      <td>5642903</td>\n",
       "      <td>F</td>\n",
       "      <td>2016-04-29T18:38:08Z</td>\n",
       "      <td>2016-04-29T00:00:00Z</td>\n",
       "      <td>62</td>\n",
       "      <td>JARDIM DA PENHA</td>\n",
       "      <td>0</td>\n",
       "      <td>1</td>\n",
       "      <td>0</td>\n",
       "      <td>0</td>\n",
       "      <td>0</td>\n",
       "      <td>0</td>\n",
       "      <td>No</td>\n",
       "    </tr>\n",
       "    <tr>\n",
       "      <th>1</th>\n",
       "      <td>5.589978e+14</td>\n",
       "      <td>5642503</td>\n",
       "      <td>M</td>\n",
       "      <td>2016-04-29T16:08:27Z</td>\n",
       "      <td>2016-04-29T00:00:00Z</td>\n",
       "      <td>56</td>\n",
       "      <td>JARDIM DA PENHA</td>\n",
       "      <td>0</td>\n",
       "      <td>0</td>\n",
       "      <td>0</td>\n",
       "      <td>0</td>\n",
       "      <td>0</td>\n",
       "      <td>0</td>\n",
       "      <td>No</td>\n",
       "    </tr>\n",
       "    <tr>\n",
       "      <th>2</th>\n",
       "      <td>4.262962e+12</td>\n",
       "      <td>5642549</td>\n",
       "      <td>F</td>\n",
       "      <td>2016-04-29T16:19:04Z</td>\n",
       "      <td>2016-04-29T00:00:00Z</td>\n",
       "      <td>62</td>\n",
       "      <td>MATA DA PRAIA</td>\n",
       "      <td>0</td>\n",
       "      <td>0</td>\n",
       "      <td>0</td>\n",
       "      <td>0</td>\n",
       "      <td>0</td>\n",
       "      <td>0</td>\n",
       "      <td>No</td>\n",
       "    </tr>\n",
       "    <tr>\n",
       "      <th>3</th>\n",
       "      <td>8.679512e+11</td>\n",
       "      <td>5642828</td>\n",
       "      <td>F</td>\n",
       "      <td>2016-04-29T17:29:31Z</td>\n",
       "      <td>2016-04-29T00:00:00Z</td>\n",
       "      <td>8</td>\n",
       "      <td>PONTAL DE CAMBURI</td>\n",
       "      <td>0</td>\n",
       "      <td>0</td>\n",
       "      <td>0</td>\n",
       "      <td>0</td>\n",
       "      <td>0</td>\n",
       "      <td>0</td>\n",
       "      <td>No</td>\n",
       "    </tr>\n",
       "    <tr>\n",
       "      <th>4</th>\n",
       "      <td>8.841186e+12</td>\n",
       "      <td>5642494</td>\n",
       "      <td>F</td>\n",
       "      <td>2016-04-29T16:07:23Z</td>\n",
       "      <td>2016-04-29T00:00:00Z</td>\n",
       "      <td>56</td>\n",
       "      <td>JARDIM DA PENHA</td>\n",
       "      <td>0</td>\n",
       "      <td>1</td>\n",
       "      <td>1</td>\n",
       "      <td>0</td>\n",
       "      <td>0</td>\n",
       "      <td>0</td>\n",
       "      <td>No</td>\n",
       "    </tr>\n",
       "  </tbody>\n",
       "</table>\n",
       "</div>"
      ],
      "text/plain": [
       "      PatientId  AppointmentID Gender          ScheduledDay  \\\n",
       "0  2.987250e+13        5642903      F  2016-04-29T18:38:08Z   \n",
       "1  5.589978e+14        5642503      M  2016-04-29T16:08:27Z   \n",
       "2  4.262962e+12        5642549      F  2016-04-29T16:19:04Z   \n",
       "3  8.679512e+11        5642828      F  2016-04-29T17:29:31Z   \n",
       "4  8.841186e+12        5642494      F  2016-04-29T16:07:23Z   \n",
       "\n",
       "         AppointmentDay  Age      Neighbourhood  Scholarship  Hipertension  \\\n",
       "0  2016-04-29T00:00:00Z   62    JARDIM DA PENHA            0             1   \n",
       "1  2016-04-29T00:00:00Z   56    JARDIM DA PENHA            0             0   \n",
       "2  2016-04-29T00:00:00Z   62      MATA DA PRAIA            0             0   \n",
       "3  2016-04-29T00:00:00Z    8  PONTAL DE CAMBURI            0             0   \n",
       "4  2016-04-29T00:00:00Z   56    JARDIM DA PENHA            0             1   \n",
       "\n",
       "   Diabetes  Alcoholism  Handcap  SMS_received No-show  \n",
       "0         0           0        0             0      No  \n",
       "1         0           0        0             0      No  \n",
       "2         0           0        0             0      No  \n",
       "3         0           0        0             0      No  \n",
       "4         1           0        0             0      No  "
      ]
     },
     "execution_count": 259,
     "metadata": {},
     "output_type": "execute_result"
    }
   ],
   "source": [
    "#We first load the data, then view and inspect the first few lines\n",
    "df=pd.read_csv(\"noshowappointments-kagglev2-may-2016.csv\")\n",
    "df.head()"
   ]
  },
  {
   "cell_type": "markdown",
   "id": "43cf24e4",
   "metadata": {},
   "source": [
    "Having viewed the first few lines of the data, we check the shape, check for duplicates,missing data, description of the data and incorrect datatypes. "
   ]
  },
  {
   "cell_type": "code",
   "execution_count": 260,
   "id": "4c0c114a",
   "metadata": {},
   "outputs": [
    {
     "name": "stdout",
     "output_type": "stream",
     "text": [
      "The dataset contains 110527 samples (rows) and  14 observations (columns)\n"
     ]
    }
   ],
   "source": [
    "#Shape of the data (Numbers of rows and columns)\n",
    "Shape=df.shape\n",
    "print(\"The dataset contains\",Shape[0], \"samples (rows) and \", Shape[1], \"observations (columns)\")"
   ]
  },
  {
   "cell_type": "code",
   "execution_count": 261,
   "id": "46d68cbb",
   "metadata": {},
   "outputs": [
    {
     "name": "stdout",
     "output_type": "stream",
     "text": [
      "The dataset contains 0 duplicated values\n"
     ]
    }
   ],
   "source": [
    "#checking for duplicated values\n",
    "Dup=df.duplicated().sum()\n",
    "print(\"The dataset contains\", Dup, \"duplicated values\")"
   ]
  },
  {
   "cell_type": "code",
   "execution_count": 262,
   "id": "f07268a8",
   "metadata": {},
   "outputs": [
    {
     "name": "stdout",
     "output_type": "stream",
     "text": [
      "This dataset contains no missing values\n"
     ]
    }
   ],
   "source": [
    "#Checking for missing values\n",
    "Missing=df.isna().sum().any()\n",
    "if Missing==False:\n",
    "    print(\"This dataset contains no missing values\")\n",
    "else:\n",
    "    print(\"This dataset contains some missing values\")"
   ]
  },
  {
   "cell_type": "code",
   "execution_count": 263,
   "id": "910681d0",
   "metadata": {},
   "outputs": [
    {
     "name": "stdout",
     "output_type": "stream",
     "text": [
      "<class 'pandas.core.frame.DataFrame'>\n",
      "RangeIndex: 110527 entries, 0 to 110526\n",
      "Data columns (total 14 columns):\n",
      " #   Column          Non-Null Count   Dtype  \n",
      "---  ------          --------------   -----  \n",
      " 0   PatientId       110527 non-null  float64\n",
      " 1   AppointmentID   110527 non-null  int64  \n",
      " 2   Gender          110527 non-null  object \n",
      " 3   ScheduledDay    110527 non-null  object \n",
      " 4   AppointmentDay  110527 non-null  object \n",
      " 5   Age             110527 non-null  int64  \n",
      " 6   Neighbourhood   110527 non-null  object \n",
      " 7   Scholarship     110527 non-null  int64  \n",
      " 8   Hipertension    110527 non-null  int64  \n",
      " 9   Diabetes        110527 non-null  int64  \n",
      " 10  Alcoholism      110527 non-null  int64  \n",
      " 11  Handcap         110527 non-null  int64  \n",
      " 12  SMS_received    110527 non-null  int64  \n",
      " 13  No-show         110527 non-null  object \n",
      "dtypes: float64(1), int64(8), object(5)\n",
      "memory usage: 11.8+ MB\n"
     ]
    }
   ],
   "source": [
    "#Checking information of the data and incorrect datatypes\n",
    "df.info()"
   ]
  },
  {
   "cell_type": "code",
   "execution_count": 264,
   "id": "387354ae",
   "metadata": {},
   "outputs": [
    {
     "data": {
      "text/html": [
       "<div>\n",
       "<style scoped>\n",
       "    .dataframe tbody tr th:only-of-type {\n",
       "        vertical-align: middle;\n",
       "    }\n",
       "\n",
       "    .dataframe tbody tr th {\n",
       "        vertical-align: top;\n",
       "    }\n",
       "\n",
       "    .dataframe thead th {\n",
       "        text-align: right;\n",
       "    }\n",
       "</style>\n",
       "<table border=\"1\" class=\"dataframe\">\n",
       "  <thead>\n",
       "    <tr style=\"text-align: right;\">\n",
       "      <th></th>\n",
       "      <th>PatientId</th>\n",
       "      <th>AppointmentID</th>\n",
       "      <th>Age</th>\n",
       "      <th>Scholarship</th>\n",
       "      <th>Hipertension</th>\n",
       "      <th>Diabetes</th>\n",
       "      <th>Alcoholism</th>\n",
       "      <th>Handcap</th>\n",
       "      <th>SMS_received</th>\n",
       "    </tr>\n",
       "  </thead>\n",
       "  <tbody>\n",
       "    <tr>\n",
       "      <th>count</th>\n",
       "      <td>1.105270e+05</td>\n",
       "      <td>1.105270e+05</td>\n",
       "      <td>110527.000000</td>\n",
       "      <td>110527.000000</td>\n",
       "      <td>110527.000000</td>\n",
       "      <td>110527.000000</td>\n",
       "      <td>110527.000000</td>\n",
       "      <td>110527.000000</td>\n",
       "      <td>110527.000000</td>\n",
       "    </tr>\n",
       "    <tr>\n",
       "      <th>mean</th>\n",
       "      <td>1.474963e+14</td>\n",
       "      <td>5.675305e+06</td>\n",
       "      <td>37.088874</td>\n",
       "      <td>0.098266</td>\n",
       "      <td>0.197246</td>\n",
       "      <td>0.071865</td>\n",
       "      <td>0.030400</td>\n",
       "      <td>0.022248</td>\n",
       "      <td>0.321026</td>\n",
       "    </tr>\n",
       "    <tr>\n",
       "      <th>std</th>\n",
       "      <td>2.560949e+14</td>\n",
       "      <td>7.129575e+04</td>\n",
       "      <td>23.110205</td>\n",
       "      <td>0.297675</td>\n",
       "      <td>0.397921</td>\n",
       "      <td>0.258265</td>\n",
       "      <td>0.171686</td>\n",
       "      <td>0.161543</td>\n",
       "      <td>0.466873</td>\n",
       "    </tr>\n",
       "    <tr>\n",
       "      <th>min</th>\n",
       "      <td>3.921784e+04</td>\n",
       "      <td>5.030230e+06</td>\n",
       "      <td>-1.000000</td>\n",
       "      <td>0.000000</td>\n",
       "      <td>0.000000</td>\n",
       "      <td>0.000000</td>\n",
       "      <td>0.000000</td>\n",
       "      <td>0.000000</td>\n",
       "      <td>0.000000</td>\n",
       "    </tr>\n",
       "    <tr>\n",
       "      <th>25%</th>\n",
       "      <td>4.172614e+12</td>\n",
       "      <td>5.640286e+06</td>\n",
       "      <td>18.000000</td>\n",
       "      <td>0.000000</td>\n",
       "      <td>0.000000</td>\n",
       "      <td>0.000000</td>\n",
       "      <td>0.000000</td>\n",
       "      <td>0.000000</td>\n",
       "      <td>0.000000</td>\n",
       "    </tr>\n",
       "    <tr>\n",
       "      <th>50%</th>\n",
       "      <td>3.173184e+13</td>\n",
       "      <td>5.680573e+06</td>\n",
       "      <td>37.000000</td>\n",
       "      <td>0.000000</td>\n",
       "      <td>0.000000</td>\n",
       "      <td>0.000000</td>\n",
       "      <td>0.000000</td>\n",
       "      <td>0.000000</td>\n",
       "      <td>0.000000</td>\n",
       "    </tr>\n",
       "    <tr>\n",
       "      <th>75%</th>\n",
       "      <td>9.439172e+13</td>\n",
       "      <td>5.725524e+06</td>\n",
       "      <td>55.000000</td>\n",
       "      <td>0.000000</td>\n",
       "      <td>0.000000</td>\n",
       "      <td>0.000000</td>\n",
       "      <td>0.000000</td>\n",
       "      <td>0.000000</td>\n",
       "      <td>1.000000</td>\n",
       "    </tr>\n",
       "    <tr>\n",
       "      <th>max</th>\n",
       "      <td>9.999816e+14</td>\n",
       "      <td>5.790484e+06</td>\n",
       "      <td>115.000000</td>\n",
       "      <td>1.000000</td>\n",
       "      <td>1.000000</td>\n",
       "      <td>1.000000</td>\n",
       "      <td>1.000000</td>\n",
       "      <td>4.000000</td>\n",
       "      <td>1.000000</td>\n",
       "    </tr>\n",
       "  </tbody>\n",
       "</table>\n",
       "</div>"
      ],
      "text/plain": [
       "          PatientId  AppointmentID            Age    Scholarship  \\\n",
       "count  1.105270e+05   1.105270e+05  110527.000000  110527.000000   \n",
       "mean   1.474963e+14   5.675305e+06      37.088874       0.098266   \n",
       "std    2.560949e+14   7.129575e+04      23.110205       0.297675   \n",
       "min    3.921784e+04   5.030230e+06      -1.000000       0.000000   \n",
       "25%    4.172614e+12   5.640286e+06      18.000000       0.000000   \n",
       "50%    3.173184e+13   5.680573e+06      37.000000       0.000000   \n",
       "75%    9.439172e+13   5.725524e+06      55.000000       0.000000   \n",
       "max    9.999816e+14   5.790484e+06     115.000000       1.000000   \n",
       "\n",
       "        Hipertension       Diabetes     Alcoholism        Handcap  \\\n",
       "count  110527.000000  110527.000000  110527.000000  110527.000000   \n",
       "mean        0.197246       0.071865       0.030400       0.022248   \n",
       "std         0.397921       0.258265       0.171686       0.161543   \n",
       "min         0.000000       0.000000       0.000000       0.000000   \n",
       "25%         0.000000       0.000000       0.000000       0.000000   \n",
       "50%         0.000000       0.000000       0.000000       0.000000   \n",
       "75%         0.000000       0.000000       0.000000       0.000000   \n",
       "max         1.000000       1.000000       1.000000       4.000000   \n",
       "\n",
       "        SMS_received  \n",
       "count  110527.000000  \n",
       "mean        0.321026  \n",
       "std         0.466873  \n",
       "min         0.000000  \n",
       "25%         0.000000  \n",
       "50%         0.000000  \n",
       "75%         1.000000  \n",
       "max         1.000000  "
      ]
     },
     "execution_count": 264,
     "metadata": {},
     "output_type": "execute_result"
    }
   ],
   "source": [
    "#Checking the statistical summary of the dataset\n",
    "df.describe()"
   ]
  },
  {
   "cell_type": "markdown",
   "id": "0b2f8100",
   "metadata": {},
   "source": [
    "##### Observation\n",
    "> ***Missing, duplicates, shape and datatypes:*** We have seen that the dataset has no missing values or duplicated values. The dataset contains 110527 samples (rows) and  14 observations (columns). The dataset contains float64(1), int64(8), objector string (5).\n",
    "\n",
    ">***Areas to clean:*** We can observe from the information above that the appointment day and Scheduled day which is data and time indicator is in the string datatype instead of datetime type. Observation from the statistical description of the date shows the minimum Age to be -1 which which is quite odd, because a person's age cannot be -1. Hence we refer this entry as an error.\n",
    "The datatype for the Patient Id number and the AppointmentID should be string, as the numbers are means of identifications and cannot be used in any numerical manipulations. In addition, the labeling name format for the last column \"No-show\" needs to be change to \"No_show\" for consistency."
   ]
  },
  {
   "cell_type": "markdown",
   "id": "0194ce09",
   "metadata": {},
   "source": [
    "### Data Cleaning Phase\n",
    "\n",
    ">In this phase we will perform three major cleaning which are:\n",
    "\n",
    ">(a) Conversion of Appointment day and Scheduled day from string datatype to datetime datatype. \n",
    "\n",
    ">(b) Conversion of the datatype for Patient Id number and AppointmentID to string.\n",
    "\n",
    ">(c) Addressing the negative \"Age\" value.\n",
    "\n",
    ">(d) The re-labeling of the last column \"No-show\"  to \"No_show\" for consistency."
   ]
  },
  {
   "cell_type": "code",
   "execution_count": 265,
   "id": "5e132225",
   "metadata": {},
   "outputs": [
    {
     "name": "stdout",
     "output_type": "stream",
     "text": [
      "<class 'pandas.core.frame.DataFrame'>\n",
      "RangeIndex: 110527 entries, 0 to 110526\n",
      "Data columns (total 14 columns):\n",
      " #   Column          Non-Null Count   Dtype              \n",
      "---  ------          --------------   -----              \n",
      " 0   PatientId       110527 non-null  float64            \n",
      " 1   AppointmentID   110527 non-null  int64              \n",
      " 2   Gender          110527 non-null  object             \n",
      " 3   ScheduledDay    110527 non-null  datetime64[ns, UTC]\n",
      " 4   AppointmentDay  110527 non-null  datetime64[ns, UTC]\n",
      " 5   Age             110527 non-null  int64              \n",
      " 6   Neighbourhood   110527 non-null  object             \n",
      " 7   Scholarship     110527 non-null  int64              \n",
      " 8   Hipertension    110527 non-null  int64              \n",
      " 9   Diabetes        110527 non-null  int64              \n",
      " 10  Alcoholism      110527 non-null  int64              \n",
      " 11  Handcap         110527 non-null  int64              \n",
      " 12  SMS_received    110527 non-null  int64              \n",
      " 13  No-show         110527 non-null  object             \n",
      "dtypes: datetime64[ns, UTC](2), float64(1), int64(8), object(3)\n",
      "memory usage: 11.8+ MB\n"
     ]
    }
   ],
   "source": [
    "# (a) Conversion of Appointment day and Scheduled day from string datatype to datetime datatype\n",
    "df['AppointmentDay'] = pd.to_datetime(df['AppointmentDay'])\n",
    "df['ScheduledDay'] = pd.to_datetime(df['ScheduledDay'])\n",
    "df.info()\n"
   ]
  },
  {
   "cell_type": "code",
   "execution_count": 266,
   "id": "73abf818",
   "metadata": {},
   "outputs": [
    {
     "data": {
      "text/html": [
       "<div>\n",
       "<style scoped>\n",
       "    .dataframe tbody tr th:only-of-type {\n",
       "        vertical-align: middle;\n",
       "    }\n",
       "\n",
       "    .dataframe tbody tr th {\n",
       "        vertical-align: top;\n",
       "    }\n",
       "\n",
       "    .dataframe thead th {\n",
       "        text-align: right;\n",
       "    }\n",
       "</style>\n",
       "<table border=\"1\" class=\"dataframe\">\n",
       "  <thead>\n",
       "    <tr style=\"text-align: right;\">\n",
       "      <th></th>\n",
       "      <th>PatientId</th>\n",
       "      <th>AppointmentID</th>\n",
       "      <th>Gender</th>\n",
       "      <th>ScheduledDay</th>\n",
       "      <th>AppointmentDay</th>\n",
       "      <th>Age</th>\n",
       "      <th>Neighbourhood</th>\n",
       "      <th>Scholarship</th>\n",
       "      <th>Hipertension</th>\n",
       "      <th>Diabetes</th>\n",
       "      <th>Alcoholism</th>\n",
       "      <th>Handcap</th>\n",
       "      <th>SMS_received</th>\n",
       "      <th>No-show</th>\n",
       "    </tr>\n",
       "  </thead>\n",
       "  <tbody>\n",
       "    <tr>\n",
       "      <th>0</th>\n",
       "      <td>29872499824296.0</td>\n",
       "      <td>5642903</td>\n",
       "      <td>F</td>\n",
       "      <td>2016-04-29 18:38:08+00:00</td>\n",
       "      <td>2016-04-29 00:00:00+00:00</td>\n",
       "      <td>62</td>\n",
       "      <td>JARDIM DA PENHA</td>\n",
       "      <td>0</td>\n",
       "      <td>1</td>\n",
       "      <td>0</td>\n",
       "      <td>0</td>\n",
       "      <td>0</td>\n",
       "      <td>0</td>\n",
       "      <td>No</td>\n",
       "    </tr>\n",
       "    <tr>\n",
       "      <th>1</th>\n",
       "      <td>558997776694438.0</td>\n",
       "      <td>5642503</td>\n",
       "      <td>M</td>\n",
       "      <td>2016-04-29 16:08:27+00:00</td>\n",
       "      <td>2016-04-29 00:00:00+00:00</td>\n",
       "      <td>56</td>\n",
       "      <td>JARDIM DA PENHA</td>\n",
       "      <td>0</td>\n",
       "      <td>0</td>\n",
       "      <td>0</td>\n",
       "      <td>0</td>\n",
       "      <td>0</td>\n",
       "      <td>0</td>\n",
       "      <td>No</td>\n",
       "    </tr>\n",
       "    <tr>\n",
       "      <th>2</th>\n",
       "      <td>4262962299951.0</td>\n",
       "      <td>5642549</td>\n",
       "      <td>F</td>\n",
       "      <td>2016-04-29 16:19:04+00:00</td>\n",
       "      <td>2016-04-29 00:00:00+00:00</td>\n",
       "      <td>62</td>\n",
       "      <td>MATA DA PRAIA</td>\n",
       "      <td>0</td>\n",
       "      <td>0</td>\n",
       "      <td>0</td>\n",
       "      <td>0</td>\n",
       "      <td>0</td>\n",
       "      <td>0</td>\n",
       "      <td>No</td>\n",
       "    </tr>\n",
       "    <tr>\n",
       "      <th>3</th>\n",
       "      <td>867951213174.0</td>\n",
       "      <td>5642828</td>\n",
       "      <td>F</td>\n",
       "      <td>2016-04-29 17:29:31+00:00</td>\n",
       "      <td>2016-04-29 00:00:00+00:00</td>\n",
       "      <td>8</td>\n",
       "      <td>PONTAL DE CAMBURI</td>\n",
       "      <td>0</td>\n",
       "      <td>0</td>\n",
       "      <td>0</td>\n",
       "      <td>0</td>\n",
       "      <td>0</td>\n",
       "      <td>0</td>\n",
       "      <td>No</td>\n",
       "    </tr>\n",
       "    <tr>\n",
       "      <th>4</th>\n",
       "      <td>8841186448183.0</td>\n",
       "      <td>5642494</td>\n",
       "      <td>F</td>\n",
       "      <td>2016-04-29 16:07:23+00:00</td>\n",
       "      <td>2016-04-29 00:00:00+00:00</td>\n",
       "      <td>56</td>\n",
       "      <td>JARDIM DA PENHA</td>\n",
       "      <td>0</td>\n",
       "      <td>1</td>\n",
       "      <td>1</td>\n",
       "      <td>0</td>\n",
       "      <td>0</td>\n",
       "      <td>0</td>\n",
       "      <td>No</td>\n",
       "    </tr>\n",
       "  </tbody>\n",
       "</table>\n",
       "</div>"
      ],
      "text/plain": [
       "           PatientId AppointmentID Gender              ScheduledDay  \\\n",
       "0   29872499824296.0       5642903      F 2016-04-29 18:38:08+00:00   \n",
       "1  558997776694438.0       5642503      M 2016-04-29 16:08:27+00:00   \n",
       "2    4262962299951.0       5642549      F 2016-04-29 16:19:04+00:00   \n",
       "3     867951213174.0       5642828      F 2016-04-29 17:29:31+00:00   \n",
       "4    8841186448183.0       5642494      F 2016-04-29 16:07:23+00:00   \n",
       "\n",
       "             AppointmentDay  Age      Neighbourhood  Scholarship  \\\n",
       "0 2016-04-29 00:00:00+00:00   62    JARDIM DA PENHA            0   \n",
       "1 2016-04-29 00:00:00+00:00   56    JARDIM DA PENHA            0   \n",
       "2 2016-04-29 00:00:00+00:00   62      MATA DA PRAIA            0   \n",
       "3 2016-04-29 00:00:00+00:00    8  PONTAL DE CAMBURI            0   \n",
       "4 2016-04-29 00:00:00+00:00   56    JARDIM DA PENHA            0   \n",
       "\n",
       "   Hipertension  Diabetes  Alcoholism  Handcap  SMS_received No-show  \n",
       "0             1         0           0        0             0      No  \n",
       "1             0         0           0        0             0      No  \n",
       "2             0         0           0        0             0      No  \n",
       "3             0         0           0        0             0      No  \n",
       "4             1         1           0        0             0      No  "
      ]
     },
     "execution_count": 266,
     "metadata": {},
     "output_type": "execute_result"
    }
   ],
   "source": [
    "#(b) Conversion of the datatype for Patient Id number and AppointmentID to string\n",
    "df['PatientId'] = df['PatientId'].astype(str)\n",
    "df['AppointmentID'] = df['AppointmentID'].astype(str)\n",
    "df.head()"
   ]
  },
  {
   "cell_type": "markdown",
   "id": "63482fc2",
   "metadata": {},
   "source": [
    " >From the above, the two features, Appointmentday and Scheduled day is now in a datetime format.\n",
    "Now we proceed to inspect the description statistics of the dataset."
   ]
  },
  {
   "cell_type": "markdown",
   "id": "b91a50b0",
   "metadata": {},
   "source": [
    "To address the negaitive Age value, we check for how many instances of such error entries are in the data set."
   ]
  },
  {
   "cell_type": "code",
   "execution_count": 267,
   "id": "fedf3514",
   "metadata": {},
   "outputs": [
    {
     "data": {
      "text/html": [
       "<div>\n",
       "<style scoped>\n",
       "    .dataframe tbody tr th:only-of-type {\n",
       "        vertical-align: middle;\n",
       "    }\n",
       "\n",
       "    .dataframe tbody tr th {\n",
       "        vertical-align: top;\n",
       "    }\n",
       "\n",
       "    .dataframe thead th {\n",
       "        text-align: right;\n",
       "    }\n",
       "</style>\n",
       "<table border=\"1\" class=\"dataframe\">\n",
       "  <thead>\n",
       "    <tr style=\"text-align: right;\">\n",
       "      <th></th>\n",
       "      <th>PatientId</th>\n",
       "      <th>AppointmentID</th>\n",
       "      <th>Gender</th>\n",
       "      <th>ScheduledDay</th>\n",
       "      <th>AppointmentDay</th>\n",
       "      <th>Age</th>\n",
       "      <th>Neighbourhood</th>\n",
       "      <th>Scholarship</th>\n",
       "      <th>Hipertension</th>\n",
       "      <th>Diabetes</th>\n",
       "      <th>Alcoholism</th>\n",
       "      <th>Handcap</th>\n",
       "      <th>SMS_received</th>\n",
       "      <th>No-show</th>\n",
       "    </tr>\n",
       "  </thead>\n",
       "  <tbody>\n",
       "    <tr>\n",
       "      <th>99832</th>\n",
       "      <td>465943158731293.0</td>\n",
       "      <td>5775010</td>\n",
       "      <td>F</td>\n",
       "      <td>2016-06-06 08:58:13+00:00</td>\n",
       "      <td>2016-06-06 00:00:00+00:00</td>\n",
       "      <td>-1</td>\n",
       "      <td>ROMÃO</td>\n",
       "      <td>0</td>\n",
       "      <td>0</td>\n",
       "      <td>0</td>\n",
       "      <td>0</td>\n",
       "      <td>0</td>\n",
       "      <td>0</td>\n",
       "      <td>No</td>\n",
       "    </tr>\n",
       "  </tbody>\n",
       "</table>\n",
       "</div>"
      ],
      "text/plain": [
       "               PatientId AppointmentID Gender              ScheduledDay  \\\n",
       "99832  465943158731293.0       5775010      F 2016-06-06 08:58:13+00:00   \n",
       "\n",
       "                 AppointmentDay  Age Neighbourhood  Scholarship  Hipertension  \\\n",
       "99832 2016-06-06 00:00:00+00:00   -1         ROMÃO            0             0   \n",
       "\n",
       "       Diabetes  Alcoholism  Handcap  SMS_received No-show  \n",
       "99832         0           0        0             0      No  "
      ]
     },
     "execution_count": 267,
     "metadata": {},
     "output_type": "execute_result"
    }
   ],
   "source": [
    "#Instances of Age of -1 in the data set\n",
    "df[df['Age']==-1]"
   ]
  },
  {
   "cell_type": "code",
   "execution_count": 268,
   "id": "2ed27501",
   "metadata": {},
   "outputs": [],
   "source": [
    "#Drop the role with incorrect data value and saving it to df_1\n",
    "df_1=df.drop(99832)"
   ]
  },
  {
   "cell_type": "code",
   "execution_count": 269,
   "id": "a589218f",
   "metadata": {},
   "outputs": [
    {
     "data": {
      "text/html": [
       "<div>\n",
       "<style scoped>\n",
       "    .dataframe tbody tr th:only-of-type {\n",
       "        vertical-align: middle;\n",
       "    }\n",
       "\n",
       "    .dataframe tbody tr th {\n",
       "        vertical-align: top;\n",
       "    }\n",
       "\n",
       "    .dataframe thead th {\n",
       "        text-align: right;\n",
       "    }\n",
       "</style>\n",
       "<table border=\"1\" class=\"dataframe\">\n",
       "  <thead>\n",
       "    <tr style=\"text-align: right;\">\n",
       "      <th></th>\n",
       "      <th>Age</th>\n",
       "      <th>Scholarship</th>\n",
       "      <th>Hipertension</th>\n",
       "      <th>Diabetes</th>\n",
       "      <th>Alcoholism</th>\n",
       "      <th>Handcap</th>\n",
       "      <th>SMS_received</th>\n",
       "    </tr>\n",
       "  </thead>\n",
       "  <tbody>\n",
       "    <tr>\n",
       "      <th>count</th>\n",
       "      <td>110526.000000</td>\n",
       "      <td>110526.000000</td>\n",
       "      <td>110526.000000</td>\n",
       "      <td>110526.000000</td>\n",
       "      <td>110526.000000</td>\n",
       "      <td>110526.000000</td>\n",
       "      <td>110526.000000</td>\n",
       "    </tr>\n",
       "    <tr>\n",
       "      <th>mean</th>\n",
       "      <td>37.089219</td>\n",
       "      <td>0.098266</td>\n",
       "      <td>0.197248</td>\n",
       "      <td>0.071865</td>\n",
       "      <td>0.030400</td>\n",
       "      <td>0.022248</td>\n",
       "      <td>0.321029</td>\n",
       "    </tr>\n",
       "    <tr>\n",
       "      <th>std</th>\n",
       "      <td>23.110026</td>\n",
       "      <td>0.297676</td>\n",
       "      <td>0.397923</td>\n",
       "      <td>0.258266</td>\n",
       "      <td>0.171686</td>\n",
       "      <td>0.161543</td>\n",
       "      <td>0.466874</td>\n",
       "    </tr>\n",
       "    <tr>\n",
       "      <th>min</th>\n",
       "      <td>0.000000</td>\n",
       "      <td>0.000000</td>\n",
       "      <td>0.000000</td>\n",
       "      <td>0.000000</td>\n",
       "      <td>0.000000</td>\n",
       "      <td>0.000000</td>\n",
       "      <td>0.000000</td>\n",
       "    </tr>\n",
       "    <tr>\n",
       "      <th>25%</th>\n",
       "      <td>18.000000</td>\n",
       "      <td>0.000000</td>\n",
       "      <td>0.000000</td>\n",
       "      <td>0.000000</td>\n",
       "      <td>0.000000</td>\n",
       "      <td>0.000000</td>\n",
       "      <td>0.000000</td>\n",
       "    </tr>\n",
       "    <tr>\n",
       "      <th>50%</th>\n",
       "      <td>37.000000</td>\n",
       "      <td>0.000000</td>\n",
       "      <td>0.000000</td>\n",
       "      <td>0.000000</td>\n",
       "      <td>0.000000</td>\n",
       "      <td>0.000000</td>\n",
       "      <td>0.000000</td>\n",
       "    </tr>\n",
       "    <tr>\n",
       "      <th>75%</th>\n",
       "      <td>55.000000</td>\n",
       "      <td>0.000000</td>\n",
       "      <td>0.000000</td>\n",
       "      <td>0.000000</td>\n",
       "      <td>0.000000</td>\n",
       "      <td>0.000000</td>\n",
       "      <td>1.000000</td>\n",
       "    </tr>\n",
       "    <tr>\n",
       "      <th>max</th>\n",
       "      <td>115.000000</td>\n",
       "      <td>1.000000</td>\n",
       "      <td>1.000000</td>\n",
       "      <td>1.000000</td>\n",
       "      <td>1.000000</td>\n",
       "      <td>4.000000</td>\n",
       "      <td>1.000000</td>\n",
       "    </tr>\n",
       "  </tbody>\n",
       "</table>\n",
       "</div>"
      ],
      "text/plain": [
       "                 Age    Scholarship   Hipertension       Diabetes  \\\n",
       "count  110526.000000  110526.000000  110526.000000  110526.000000   \n",
       "mean       37.089219       0.098266       0.197248       0.071865   \n",
       "std        23.110026       0.297676       0.397923       0.258266   \n",
       "min         0.000000       0.000000       0.000000       0.000000   \n",
       "25%        18.000000       0.000000       0.000000       0.000000   \n",
       "50%        37.000000       0.000000       0.000000       0.000000   \n",
       "75%        55.000000       0.000000       0.000000       0.000000   \n",
       "max       115.000000       1.000000       1.000000       1.000000   \n",
       "\n",
       "          Alcoholism        Handcap   SMS_received  \n",
       "count  110526.000000  110526.000000  110526.000000  \n",
       "mean        0.030400       0.022248       0.321029  \n",
       "std         0.171686       0.161543       0.466874  \n",
       "min         0.000000       0.000000       0.000000  \n",
       "25%         0.000000       0.000000       0.000000  \n",
       "50%         0.000000       0.000000       0.000000  \n",
       "75%         0.000000       0.000000       1.000000  \n",
       "max         1.000000       4.000000       1.000000  "
      ]
     },
     "execution_count": 269,
     "metadata": {},
     "output_type": "execute_result"
    }
   ],
   "source": [
    "#df_1 does not contain a negative age value as will be seen in the statistical decription of ds_1\n",
    "df_1.describe()"
   ]
  },
  {
   "cell_type": "code",
   "execution_count": 270,
   "id": "54a3ab94",
   "metadata": {},
   "outputs": [
    {
     "data": {
      "text/html": [
       "<div>\n",
       "<style scoped>\n",
       "    .dataframe tbody tr th:only-of-type {\n",
       "        vertical-align: middle;\n",
       "    }\n",
       "\n",
       "    .dataframe tbody tr th {\n",
       "        vertical-align: top;\n",
       "    }\n",
       "\n",
       "    .dataframe thead th {\n",
       "        text-align: right;\n",
       "    }\n",
       "</style>\n",
       "<table border=\"1\" class=\"dataframe\">\n",
       "  <thead>\n",
       "    <tr style=\"text-align: right;\">\n",
       "      <th></th>\n",
       "      <th>PatientId</th>\n",
       "      <th>AppointmentID</th>\n",
       "      <th>Gender</th>\n",
       "      <th>ScheduledDay</th>\n",
       "      <th>AppointmentDay</th>\n",
       "      <th>Age</th>\n",
       "      <th>Neighbourhood</th>\n",
       "      <th>Scholarship</th>\n",
       "      <th>Hipertension</th>\n",
       "      <th>Diabetes</th>\n",
       "      <th>Alcoholism</th>\n",
       "      <th>Handcap</th>\n",
       "      <th>SMS_received</th>\n",
       "      <th>No_show</th>\n",
       "    </tr>\n",
       "  </thead>\n",
       "  <tbody>\n",
       "    <tr>\n",
       "      <th>0</th>\n",
       "      <td>29872499824296.0</td>\n",
       "      <td>5642903</td>\n",
       "      <td>F</td>\n",
       "      <td>2016-04-29 18:38:08+00:00</td>\n",
       "      <td>2016-04-29 00:00:00+00:00</td>\n",
       "      <td>62</td>\n",
       "      <td>JARDIM DA PENHA</td>\n",
       "      <td>0</td>\n",
       "      <td>1</td>\n",
       "      <td>0</td>\n",
       "      <td>0</td>\n",
       "      <td>0</td>\n",
       "      <td>0</td>\n",
       "      <td>No</td>\n",
       "    </tr>\n",
       "  </tbody>\n",
       "</table>\n",
       "</div>"
      ],
      "text/plain": [
       "          PatientId AppointmentID Gender              ScheduledDay  \\\n",
       "0  29872499824296.0       5642903      F 2016-04-29 18:38:08+00:00   \n",
       "\n",
       "             AppointmentDay  Age    Neighbourhood  Scholarship  Hipertension  \\\n",
       "0 2016-04-29 00:00:00+00:00   62  JARDIM DA PENHA            0             1   \n",
       "\n",
       "   Diabetes  Alcoholism  Handcap  SMS_received No_show  \n",
       "0         0           0        0             0      No  "
      ]
     },
     "execution_count": 270,
     "metadata": {},
     "output_type": "execute_result"
    }
   ],
   "source": [
    "# (d) The re-labeling of the last column \"No-show\" to \"No_show\" for consistency.\n",
    "df_1=df_1.rename(columns={\"No-show\":\"No_show\"})\n",
    "df_1.head(1)"
   ]
  },
  {
   "cell_type": "markdown",
   "id": "c99905ad",
   "metadata": {},
   "source": [
    "<a id='eda'></a>\n",
    "## Exploratory Data Analysis\n",
    "\n",
    ">Now that we have trimmed and cleaned the data, we are ready to move on to exploration. Compute statistics and create visualizations with the goal of addressing the research questions that we have posed in the Introduction section. We will compute statistics like:\n",
    "\n",
    "\n",
    "> 1.)  Next we investigate the average, standard deviation maximum and minumum age of the patient gender\n",
    "\n",
    ">2.)  Next we investigate the average, standard deviation maximum and minumum age of the patient with Hypertension, dieabetes, Alcoholism and Handicapped\n",
    "\n",
    ">3.) Categorize the ages of the patient and see the distributions\n",
    "\n",
    "\n",
    "> Further more, we shall basically make use of Histogram and Barplots to gain a visual understanding in this exploration analysis. "
   ]
  },
  {
   "cell_type": "code",
   "execution_count": 271,
   "id": "ca025d6d",
   "metadata": {},
   "outputs": [
    {
     "data": {
      "image/png": "[encoded data removed]",
      "text/plain": [
       "<Figure size 1440x1440 with 9 Axes>"
      ]
     },
     "metadata": {
      "needs_background": "light"
     },
     "output_type": "display_data"
    }
   ],
   "source": [
    "#Distributions of the numerical features\n",
    "df_1.hist(figsize=(20, 20));"
   ]
  },
  {
   "cell_type": "markdown",
   "id": "67ae3bfc",
   "metadata": {},
   "source": [
    "For since we will majorly make use of historgram and bar plot in our exploration, lets define two functions:\n",
    "\n",
    "plot_bar: which will take inputs of the dataframe to plot, labels and title and output a corresponding barplot\n",
    "\n",
    "plot_hist: which will take inputs of the dataframe to plot, labels and title and output a corresponding Histogram"
   ]
  },
  {
   "cell_type": "code",
   "execution_count": 272,
   "id": "44731d65",
   "metadata": {},
   "outputs": [],
   "source": [
    "#Function to plot barchart\n",
    "def plot_bar(df, ylabel, title):  #Take in the inputs\n",
    "    df.plot(kind='bar').set_ylabel(ylabel) #Make barplot and set the ylabel\n",
    "    plt.title(title)"
   ]
  },
  {
   "cell_type": "code",
   "execution_count": 273,
   "id": "1c7c959d",
   "metadata": {},
   "outputs": [],
   "source": [
    "#Function to plot histogram\n",
    "def plot_hist(axes, df, xlabel, ylabel, title):   #take in the inputs\n",
    "    axes.hist(df) #Make the Histogram plots with n numbers of bins\n",
    "    axes.set_xlabel(xlabel) #Set x label\n",
    "    axes.set_ylabel(ylabel) #Set the y label\n",
    "    axes.set_title(title)"
   ]
  },
  {
   "cell_type": "code",
   "execution_count": 274,
   "id": "c7c524a9",
   "metadata": {},
   "outputs": [
    {
     "data": {
      "text/plain": [
       "0.7980656135208005"
      ]
     },
     "execution_count": 274,
     "metadata": {},
     "output_type": "execute_result"
    },
    {
     "data": {
      "image/png": "[encoded data removed]",
      "text/plain": [
       "<Figure size 432x288 with 1 Axes>"
      ]
     },
     "metadata": {
      "needs_background": "light"
     },
     "output_type": "display_data"
    }
   ],
   "source": [
    "#Here we visualize the counts of people that showed up for their appoinment to the counts that did not show up.\n",
    "#We also see the proportion of people that showed up\n",
    "df_show=df_1[\"No_show\"].value_counts()\n",
    "plot_bar(df_show, 'Counts', 'Proportion of people that showed up')\n",
    "DEF=df_1[\"No_show\"].value_counts()\n",
    "SUM=DEF.sum()\n",
    "df_1_No_prop=DEF[0]/SUM\n",
    "df_1_No_prop"
   ]
  },
  {
   "cell_type": "code",
   "execution_count": 275,
   "id": "4f1258d7",
   "metadata": {},
   "outputs": [
    {
     "data": {
      "text/plain": [
       "0.6499737618297957"
      ]
     },
     "execution_count": 275,
     "metadata": {},
     "output_type": "execute_result"
    },
    {
     "data": {
      "image/png": "[encoded data removed]",
      "text/plain": [
       "<Figure size 432x288 with 1 Axes>"
      ]
     },
     "metadata": {
      "needs_background": "light"
     },
     "output_type": "display_data"
    }
   ],
   "source": [
    "#Here we visualize the counts of gender of the people that booked for an appointment.\n",
    "#We also see the proportion of Females to males.\n",
    "df_gender=df_1[\"Gender\"].value_counts()\n",
    "plot_bar(df_gender, 'Counts','Gender distributions of the patients')\n",
    "DEF1=df_1[\"Gender\"].value_counts()\n",
    "SUM1=DEF1.sum()\n",
    "df_1_F_prop=DEF1[0]/SUM1\n",
    "df_1_F_prop"
   ]
  },
  {
   "cell_type": "markdown",
   "id": "0922ffc5",
   "metadata": {},
   "source": [
    "##### Observations\n",
    "> From the exploration we oberved the folowings:\n",
    " \n",
    " >1. There are very few people with scholarships, diabetes, hypertension, handicap or Alcoholism.\n",
    " \n",
    " >2. About 80% of the patients showed up for their appointment.\n",
    " \n",
    " >3. About 65% of the the patients that book an appoinment were female.\n",
    " \n",
    " Next we look at the statistics of the Patient with respects to the age, gender, diseases like hypertension, diabetese and Alcolism."
   ]
  },
  {
   "cell_type": "code",
   "execution_count": 276,
   "id": "81baee21",
   "metadata": {},
   "outputs": [
    {
     "data": {
      "text/html": [
       "<div>\n",
       "<style scoped>\n",
       "    .dataframe tbody tr th:only-of-type {\n",
       "        vertical-align: middle;\n",
       "    }\n",
       "\n",
       "    .dataframe tbody tr th {\n",
       "        vertical-align: top;\n",
       "    }\n",
       "\n",
       "    .dataframe thead th {\n",
       "        text-align: right;\n",
       "    }\n",
       "</style>\n",
       "<table border=\"1\" class=\"dataframe\">\n",
       "  <thead>\n",
       "    <tr style=\"text-align: right;\">\n",
       "      <th></th>\n",
       "      <th>Age</th>\n",
       "    </tr>\n",
       "    <tr>\n",
       "      <th>Gender</th>\n",
       "      <th></th>\n",
       "    </tr>\n",
       "  </thead>\n",
       "  <tbody>\n",
       "    <tr>\n",
       "      <th>F</th>\n",
       "      <td>38.894542</td>\n",
       "    </tr>\n",
       "    <tr>\n",
       "      <th>M</th>\n",
       "      <td>33.736863</td>\n",
       "    </tr>\n",
       "  </tbody>\n",
       "</table>\n",
       "</div>"
      ],
      "text/plain": [
       "              Age\n",
       "Gender           \n",
       "F       38.894542\n",
       "M       33.736863"
      ]
     },
     "execution_count": 276,
     "metadata": {},
     "output_type": "execute_result"
    }
   ],
   "source": [
    "#Average age of the Genders that showed up\n",
    "Average_age=df_1.groupby(['Gender'])[['Age']].mean()\n",
    "Average_age"
   ]
  },
  {
   "cell_type": "markdown",
   "id": "3ff96d87",
   "metadata": {},
   "source": [
    "This shows that the average age of women that booked an appointment is 39 while that of men is around 34 year of age."
   ]
  },
  {
   "cell_type": "code",
   "execution_count": 277,
   "id": "9c956b62",
   "metadata": {},
   "outputs": [
    {
     "data": {
      "text/html": [
       "<div>\n",
       "<style scoped>\n",
       "    .dataframe tbody tr th:only-of-type {\n",
       "        vertical-align: middle;\n",
       "    }\n",
       "\n",
       "    .dataframe tbody tr th {\n",
       "        vertical-align: top;\n",
       "    }\n",
       "\n",
       "    .dataframe thead th {\n",
       "        text-align: right;\n",
       "    }\n",
       "</style>\n",
       "<table border=\"1\" class=\"dataframe\">\n",
       "  <thead>\n",
       "    <tr style=\"text-align: right;\">\n",
       "      <th></th>\n",
       "      <th>Age</th>\n",
       "    </tr>\n",
       "    <tr>\n",
       "      <th>Gender</th>\n",
       "      <th></th>\n",
       "    </tr>\n",
       "  </thead>\n",
       "  <tbody>\n",
       "    <tr>\n",
       "      <th>F</th>\n",
       "      <td>22.154889</td>\n",
       "    </tr>\n",
       "    <tr>\n",
       "      <th>M</th>\n",
       "      <td>24.435221</td>\n",
       "    </tr>\n",
       "  </tbody>\n",
       "</table>\n",
       "</div>"
      ],
      "text/plain": [
       "              Age\n",
       "Gender           \n",
       "F       22.154889\n",
       "M       24.435221"
      ]
     },
     "execution_count": 277,
     "metadata": {},
     "output_type": "execute_result"
    }
   ],
   "source": [
    "#Lets see the deviation of the Age of all the patients gender\n",
    "Std_age=df_1.groupby(['Gender'])[['Age']].std()\n",
    "Std_age"
   ]
  },
  {
   "cell_type": "code",
   "execution_count": 278,
   "id": "f144916d",
   "metadata": {},
   "outputs": [
    {
     "data": {
      "text/html": [
       "<div>\n",
       "<style scoped>\n",
       "    .dataframe tbody tr th:only-of-type {\n",
       "        vertical-align: middle;\n",
       "    }\n",
       "\n",
       "    .dataframe tbody tr th {\n",
       "        vertical-align: top;\n",
       "    }\n",
       "\n",
       "    .dataframe thead th {\n",
       "        text-align: right;\n",
       "    }\n",
       "</style>\n",
       "<table border=\"1\" class=\"dataframe\">\n",
       "  <thead>\n",
       "    <tr style=\"text-align: right;\">\n",
       "      <th></th>\n",
       "      <th>Age</th>\n",
       "    </tr>\n",
       "    <tr>\n",
       "      <th>Gender</th>\n",
       "      <th></th>\n",
       "    </tr>\n",
       "  </thead>\n",
       "  <tbody>\n",
       "    <tr>\n",
       "      <th>F</th>\n",
       "      <td>115</td>\n",
       "    </tr>\n",
       "    <tr>\n",
       "      <th>M</th>\n",
       "      <td>100</td>\n",
       "    </tr>\n",
       "  </tbody>\n",
       "</table>\n",
       "</div>"
      ],
      "text/plain": [
       "        Age\n",
       "Gender     \n",
       "F       115\n",
       "M       100"
      ]
     },
     "execution_count": 278,
     "metadata": {},
     "output_type": "execute_result"
    }
   ],
   "source": [
    "#Maximum age of male and female patient\n",
    "Max_age=df_1.groupby(['Gender'])[['Age']].max()\n",
    "Max_age"
   ]
  },
  {
   "cell_type": "code",
   "execution_count": 279,
   "id": "a4b0706e",
   "metadata": {},
   "outputs": [
    {
     "data": {
      "text/html": [
       "<div>\n",
       "<style scoped>\n",
       "    .dataframe tbody tr th:only-of-type {\n",
       "        vertical-align: middle;\n",
       "    }\n",
       "\n",
       "    .dataframe tbody tr th {\n",
       "        vertical-align: top;\n",
       "    }\n",
       "\n",
       "    .dataframe thead th {\n",
       "        text-align: right;\n",
       "    }\n",
       "</style>\n",
       "<table border=\"1\" class=\"dataframe\">\n",
       "  <thead>\n",
       "    <tr style=\"text-align: right;\">\n",
       "      <th></th>\n",
       "      <th>Age</th>\n",
       "    </tr>\n",
       "    <tr>\n",
       "      <th>Gender</th>\n",
       "      <th></th>\n",
       "    </tr>\n",
       "  </thead>\n",
       "  <tbody>\n",
       "    <tr>\n",
       "      <th>F</th>\n",
       "      <td>0</td>\n",
       "    </tr>\n",
       "    <tr>\n",
       "      <th>M</th>\n",
       "      <td>0</td>\n",
       "    </tr>\n",
       "  </tbody>\n",
       "</table>\n",
       "</div>"
      ],
      "text/plain": [
       "        Age\n",
       "Gender     \n",
       "F         0\n",
       "M         0"
      ]
     },
     "execution_count": 279,
     "metadata": {},
     "output_type": "execute_result"
    }
   ],
   "source": [
    "#Minimum age of male and female patient\n",
    "Min_age=df_1.groupby(['Gender'])[['Age']].min()\n",
    "Min_age"
   ]
  },
  {
   "cell_type": "markdown",
   "id": "fbc51661",
   "metadata": {},
   "source": [
    "The standard deviation of both gender are as high as 22 for females and 24 for males. This shows that the age distribution is spread out from young with age of 0 for both gender to oldest with the age of 115 for the female and 100 for the male."
   ]
  },
  {
   "cell_type": "markdown",
   "id": "023fd2ed",
   "metadata": {},
   "source": [
    " Next we investigate the average, standard deviation maximum and minumum age of the patient with Hypertension, dieabetes, Alcoholism and Handicapped. For this we define a fuction Statt that takes the desired feature df as an input and outputs the mean, standard deviation, minimum and maximum values."
   ]
  },
  {
   "cell_type": "code",
   "execution_count": 280,
   "id": "653b1ec3",
   "metadata": {},
   "outputs": [],
   "source": [
    "#defining function Statt\n",
    "def Statt(df):\n",
    "    output={} # A dictionary to store the outputs\n",
    "    Average= df.mean() #Calculate the mean\n",
    "    Std=df.std()       #Calculate the standard deviation\n",
    "    Minimum=df.min()   #Calculate the minimum value\n",
    "    Maximum=df.max()   #calculate the maximum value\n",
    "    output=(\"mean:\", Average, \"Standard deviation:\", Std, \"Min:\", Minimum, \"Max:\", Maximum) # store the result to output\n",
    "    return output      #Return output to the screen"
   ]
  },
  {
   "cell_type": "code",
   "execution_count": 281,
   "id": "46c1f902",
   "metadata": {},
   "outputs": [
    {
     "data": {
      "text/plain": [
       "('mean:',\n",
       "                     Age\n",
       " Hipertension           \n",
       " 0             31.308943\n",
       " 1             60.613596,\n",
       " 'Standard deviation:',\n",
       "                     Age\n",
       " Hipertension           \n",
       " 0             21.171609\n",
       " 1             13.929756,\n",
       " 'Min:',\n",
       "               Age\n",
       " Hipertension     \n",
       " 0               0\n",
       " 1               4,\n",
       " 'Max:',\n",
       "               Age\n",
       " Hipertension     \n",
       " 0             115\n",
       " 1             115)"
      ]
     },
     "execution_count": 281,
     "metadata": {},
     "output_type": "execute_result"
    }
   ],
   "source": [
    "#Next we see the mean, standard deviation, min and max age of people with Hypertension\n",
    "Statt_hypertension=df_1.groupby(['Hipertension'])[['Age']]\n",
    "Statt(Statt_hypertension)"
   ]
  },
  {
   "cell_type": "markdown",
   "id": "88dafbba",
   "metadata": {},
   "source": [
    "From the above we observe that averagely, Hypertension is more among the older patients, with a mean age of 60years,  the standard deviation of those with hypertension is lower showing a low spread out of the disease. The minimum age of the hypertensive patient is 4years and maximum is 115.  "
   ]
  },
  {
   "cell_type": "code",
   "execution_count": 282,
   "id": "061ea85b",
   "metadata": {},
   "outputs": [
    {
     "data": {
      "text/plain": [
       "('mean:',\n",
       "                 Age\n",
       " Diabetes           \n",
       " 0         35.208962\n",
       " 1         61.372529,\n",
       " 'Standard deviation:',\n",
       "                 Age\n",
       " Diabetes           \n",
       " 0         22.625604\n",
       " 1         13.597400,\n",
       " 'Min:',\n",
       "           Age\n",
       " Diabetes     \n",
       " 0           0\n",
       " 1           1,\n",
       " 'Max:',\n",
       "           Age\n",
       " Diabetes     \n",
       " 0         115\n",
       " 1          99)"
      ]
     },
     "execution_count": 282,
     "metadata": {},
     "output_type": "execute_result"
    }
   ],
   "source": [
    "#Next we see the mean, standard deviation, min and max age of people with Diabetes\n",
    "Statt_Diabetes=df_1.groupby(['Diabetes'])[['Age']]\n",
    "Statt(Statt_Diabetes)"
   ]
  },
  {
   "cell_type": "markdown",
   "id": "e0ea84ff",
   "metadata": {},
   "source": [
    "From the above we observe that averagely, Diabetes is more among the older patients, with a mean age of 61years, the standard deviation of those with hypertension is lower showing a low spread out of the disease. The minimum age of the diabetic patient is 1year and maximum is 99years."
   ]
  },
  {
   "cell_type": "code",
   "execution_count": 283,
   "id": "d5245f5f",
   "metadata": {},
   "outputs": [
    {
     "data": {
      "text/plain": [
       "('mean:',\n",
       "                   Age\n",
       " Alcoholism           \n",
       " 0           36.697161\n",
       " 1           49.593750,\n",
       " 'Standard deviation:',\n",
       "                   Age\n",
       " Alcoholism           \n",
       " 0           23.252967\n",
       " 1           12.707679,\n",
       " 'Min:',\n",
       "             Age\n",
       " Alcoholism     \n",
       " 0             0\n",
       " 1             4,\n",
       " 'Max:',\n",
       "             Age\n",
       " Alcoholism     \n",
       " 0           115\n",
       " 1            85)"
      ]
     },
     "execution_count": 283,
     "metadata": {},
     "output_type": "execute_result"
    }
   ],
   "source": [
    "#Next we see the mean, standard deviation, min and max age of people with Alcoholism\n",
    "Statt_Alcoholism=df_1.groupby(['Alcoholism'])[['Age']]\n",
    "Statt(Statt_Alcoholism)"
   ]
  },
  {
   "cell_type": "markdown",
   "id": "feb91312",
   "metadata": {},
   "source": [
    "From the above we observe that averagely, Alcoholism is more among the medium aged patients, with a mean age of 49years, the standard deviation of those with hypertension is lower showing a low spread out of the disease. The minimum age of the Alcoholism patient is 4years and maximum is 85years."
   ]
  },
  {
   "cell_type": "code",
   "execution_count": 284,
   "id": "61057c73",
   "metadata": {},
   "outputs": [
    {
     "data": {
      "image/png": "[encoded data removed]",
      "text/plain": [
       "<Figure size 432x288 with 1 Axes>"
      ]
     },
     "metadata": {
      "needs_background": "light"
     },
     "output_type": "display_data"
    }
   ],
   "source": [
    "#Using our plot_bar function to visualize the age distributions of the all the patients\n",
    "df_1['Age_range']=pd.cut(x=df_1['Age'], bins=[0, 20, 40, 60, 80, 100])\n",
    "df2 = df_1.groupby('Age_range').Age_range.count()\n",
    "plot_bar(df2,\"Counts\", \"Age distribution\")\n"
   ]
  },
  {
   "cell_type": "markdown",
   "id": "5ef52454",
   "metadata": {},
   "source": [
    "We can observe that there are more patients within the age of 40 to 60 in this dataset."
   ]
  },
  {
   "cell_type": "markdown",
   "id": "04d2f6b3",
   "metadata": {},
   "source": [
    "\n",
    "### Research Question 1 (What factors are important for us to know in order to predict if a patient will show up for their scheduled appointment?)\n",
    "\n",
    "#### (a) Do people with at least one of these charachteristics like Hypertension, Diabetes, Alcoholism, scholarship, sms-recieved or Handicap likely to show up more ?"
   ]
  },
  {
   "cell_type": "code",
   "execution_count": 285,
   "id": "ae009aac",
   "metadata": {},
   "outputs": [],
   "source": [
    "#The classifications of those who showed up and those who did not\n",
    "df_show = df_1.query('No_show==\"No\"')\n",
    "df_no_show=df_1.query('No_show==\"Yes\"')"
   ]
  },
  {
   "cell_type": "code",
   "execution_count": 286,
   "id": "e319163b",
   "metadata": {},
   "outputs": [
    {
     "data": {
      "text/plain": [
       "Text(0.5, 1.0, 'Patients with special Characteristics')"
      ]
     },
     "execution_count": 286,
     "metadata": {},
     "output_type": "execute_result"
    },
    {
     "data": {
      "image/png": "[encoded data removed]",
      "text/plain": [
       "<Figure size 432x288 with 1 Axes>"
      ]
     },
     "metadata": {
      "needs_background": "light"
     },
     "output_type": "display_data"
    }
   ],
   "source": [
    "#Lets get the data frame of people with at least Hypertension, Diabetes, Alcoholism,\n",
    "#scholarship, sms-recieved or Handicap\n",
    "df_char=df_show.query(\n",
    "    'Hipertension==1 or Scholarship==1 or Alcoholism==1 or Diabetes==1 or Handcap>=1 or SMS_received==1')\n",
    "df_no_char=df_no_show.query(\n",
    "    'Hipertension==1 or Scholarship==1 or Alcoholism==1 or Diabetes==1 or Handcap>=1 or SMS_received==1')\n",
    "plt.bar([\"Show Up\", \"No show up\"], [df_char.shape[0],df_no_char.shape[0]])\n",
    "plt.ylabel('Counts')\n",
    "plt.title('Patients with special Characteristics')"
   ]
  },
  {
   "cell_type": "markdown",
   "id": "b6ecd7ac",
   "metadata": {},
   "source": [
    "From the bar plot, we see that people who have at least one of the followings:\n",
    "1. Hypertention\n",
    "2. Scolarship\n",
    "3. Alcoholism\n",
    "4. Diabetes\n",
    "5. Those who are handicap\n",
    "6. or those who recieved SMS, \n",
    " \n",
    " \n",
    " are more likely to show up than not."
   ]
  },
  {
   "cell_type": "markdown",
   "id": "a2be5c0c",
   "metadata": {},
   "source": [
    "#### (b) Does gender determine if a person will show up or not? And if women with alcoholism is likely to show up for and appointment than men with alcoholism."
   ]
  },
  {
   "cell_type": "code",
   "execution_count": 287,
   "id": "f83117e8",
   "metadata": {},
   "outputs": [
    {
     "data": {
      "image/png": "[encoded data removed]",
      "text/plain": [
       "<Figure size 432x288 with 1 Axes>"
      ]
     },
     "metadata": {
      "needs_background": "light"
     },
     "output_type": "display_data"
    }
   ],
   "source": [
    "#Lets first see the gender distribution of the people that showed up for their appointment.\n",
    "df_show_G=df_show['Gender'].value_counts()\n",
    "plot_bar(df_show_G, 'Counts', 'Gender distributions of the patients that showed up')"
   ]
  },
  {
   "cell_type": "markdown",
   "id": "c7821cfc",
   "metadata": {},
   "source": [
    "From the plot, we observed that more females showed up campared to the male gender. This is quite logical since more females booked for an appointment compared to the male gender. Hence we find and compare the proportions of female who booked an appointment and actually showed as well as proportion of male who booked and showed up for their appoinment."
   ]
  },
  {
   "cell_type": "code",
   "execution_count": 288,
   "id": "dd67a659",
   "metadata": {},
   "outputs": [
    {
     "name": "stdout",
     "output_type": "stream",
     "text": [
      "The proportion of females that booked an appointment and showed up are 0.7968512924734475\n"
     ]
    }
   ],
   "source": [
    "#First we find the proportion of females who booked and showed up\n",
    "df_tot_F=df_1.query('Gender==\"F\"')[\"Gender\"].value_counts()\n",
    "df_FEM_SHOW=df_show.query('Gender==\"F\"')[\"Gender\"].value_counts()\n",
    "df_F_prop=(df_FEM_SHOW/df_tot_F).sum()\n",
    "print(\"The proportion of females that booked an appointment and showed up are\", df_F_prop)"
   ]
  },
  {
   "cell_type": "code",
   "execution_count": 289,
   "id": "5e3ad041",
   "metadata": {},
   "outputs": [
    {
     "name": "stdout",
     "output_type": "stream",
     "text": [
      "The proportion of Males that booked an appointment and showed up are 0.8003205211052808\n"
     ]
    }
   ],
   "source": [
    "#Here we find the proportion of male that booked and showed up\n",
    "df_tot_M=df_1.query('Gender==\"M\"')[\"Gender\"].value_counts()\n",
    "df_MAL_SHOW=df_show.query('Gender==\"M\"')[\"Gender\"].value_counts()\n",
    "df_M_prop=(df_MAL_SHOW/df_tot_M).sum()\n",
    "print(\"The proportion of Males that booked an appointment and showed up are\", df_M_prop)"
   ]
  },
  {
   "cell_type": "code",
   "execution_count": 290,
   "id": "1fb5ab7e",
   "metadata": {},
   "outputs": [
    {
     "data": {
      "text/plain": [
       "Text(0.5, 1.0, 'Proportions of male and females that showed up')"
      ]
     },
     "execution_count": 290,
     "metadata": {},
     "output_type": "execute_result"
    },
    {
     "data": {
      "image/png": "[encoded data removed]",
      "text/plain": [
       "<Figure size 432x288 with 1 Axes>"
      ]
     },
     "metadata": {
      "needs_background": "light"
     },
     "output_type": "display_data"
    }
   ],
   "source": [
    "#We use bar chart to visualize the the two gender proportions that booked and showed up\n",
    "plt.bar([\"F\", \"M\"], [df_F_prop,df_M_prop])\n",
    "plt.ylabel('Proportion')\n",
    "plt.title('Proportions of male and females that showed up')"
   ]
  },
  {
   "cell_type": "markdown",
   "id": "9efdc836",
   "metadata": {},
   "source": [
    "From the barchart above, we observe that the proportion of the females that booked and showed up is almost thesame to that of the males that booked and showed up. Hence, from the dataset, we cannot deduce that a gender type is likely to show up for an appointment compared to another."
   ]
  },
  {
   "cell_type": "markdown",
   "id": "5b367d83",
   "metadata": {},
   "source": [
    "Now lets investigate the proportion of each gender with alchohol who showed up."
   ]
  },
  {
   "cell_type": "code",
   "execution_count": 291,
   "id": "f7bda122",
   "metadata": {},
   "outputs": [
    {
     "data": {
      "image/png": "[encoded data removed]",
      "text/plain": [
       "<Figure size 432x288 with 1 Axes>"
      ]
     },
     "metadata": {
      "needs_background": "light"
     },
     "output_type": "display_data"
    }
   ],
   "source": [
    "#Lets see the distribution of gender with alcoholims\n",
    "df_Alcoholism_Gender=df_show.query('Alcoholism==1')[\"Gender\"]\n",
    "fig, ax=plt.subplots()\n",
    "plot_hist(ax, df_Alcoholism_Gender, 'Gender', 'Counts','distribution of gender with alcoholims')"
   ]
  },
  {
   "cell_type": "markdown",
   "id": "56000f08",
   "metadata": {},
   "source": [
    "We see from the distribution that there are more males with alcoholism than female, lets now see which is likely to show up for an appoinment."
   ]
  },
  {
   "cell_type": "code",
   "execution_count": 292,
   "id": "cf41a62f",
   "metadata": {},
   "outputs": [
    {
     "data": {
      "text/plain": [
       "0.7481602616516762"
      ]
     },
     "execution_count": 292,
     "metadata": {},
     "output_type": "execute_result"
    }
   ],
   "source": [
    "#Lets first of all see the proportion of female with alcoholism who showed up \n",
    "df_Alcoh_Fem=df_1.query('Alcoholism==1 and Gender==\"F\"')[\"Gender\"].value_counts().sum()\n",
    "df_Alcoh_Fem_show=df_show.query('Alcoholism==1 and Gender==\"F\"')[\"Gender\"].value_counts().sum()\n",
    "Prop_F=df_Alcoh_Fem_show/df_Alcoh_Fem\n",
    "Prop_F"
   ]
  },
  {
   "cell_type": "code",
   "execution_count": 293,
   "id": "9926e193",
   "metadata": {},
   "outputs": [
    {
     "data": {
      "text/plain": [
       "0.827328029948526"
      ]
     },
     "execution_count": 293,
     "metadata": {},
     "output_type": "execute_result"
    }
   ],
   "source": [
    "#Then lets see the proportion of male with alcoholism who showed up \n",
    "df_Alcoh_mal=df_1.query('Alcoholism==1 and Gender==\"M\"')[\"Gender\"].value_counts().sum()\n",
    "df_Alcoh_mal_show=df_show.query('Alcoholism==1 and Gender==\"M\"')[\"Gender\"].value_counts().sum()\n",
    "Prop_M=df_Alcoh_mal_show/df_Alcoh_mal\n",
    "Prop_M"
   ]
  },
  {
   "cell_type": "code",
   "execution_count": 294,
   "id": "1def7696",
   "metadata": {},
   "outputs": [
    {
     "data": {
      "text/plain": [
       "Text(0.5, 1.0, 'Proportion of male to female with alcoholism who showed up ')"
      ]
     },
     "execution_count": 294,
     "metadata": {},
     "output_type": "execute_result"
    },
    {
     "data": {
      "image/png": "[encoded data removed]",
      "text/plain": [
       "<Figure size 432x288 with 1 Axes>"
      ]
     },
     "metadata": {
      "needs_background": "light"
     },
     "output_type": "display_data"
    }
   ],
   "source": [
    "plt.bar([\"F\", \"M\"], [Prop_F,Prop_M])\n",
    "plt.ylabel('Proportion')\n",
    "plt.title('Proportion of male to female with alcoholism who showed up ')"
   ]
  },
  {
   "cell_type": "markdown",
   "id": "925909c8",
   "metadata": {},
   "source": [
    "From the plot above, we see that men are slightly more likely to show up for an appoinment than womwn with alcoholism"
   ]
  },
  {
   "cell_type": "markdown",
   "id": "e721e016",
   "metadata": {},
   "source": [
    "<a id='conclusions'></a>\n",
    "## Conclusions\n",
    "\n",
    "This analysis investigates the No-show appointment data which collected from 100k medical appointments in Brazil and is focused on the question of whether or not patients show up for their appointment. We set some goals in our analysis which were to use exploratory data analysis to investigate the following questions:\n",
    "\n",
    ">**Question:** What factors are important for us to know in order to predict if a patient will show up for their scheduled appointment? We are going to break this questions into components.\n",
    " \n",
    ">(a) Do people with at least one of these characteristics like Hypertension, Diabetes, Alcoholism, Handicap, scholarship, sms_recieved likely to show up more ?\n",
    "\n",
    ">(b) Does gender determine if a person will show up or not? And if women with alcoholism is likely to show up for and appointment than men.\n",
    "\n",
    "The analysis done in this work shows that some factors such as patient who atleast have diseases like Hypertension, Diabetes, Alcoholism or patient who are Handicap are very likely to show up for their appointment than not. Also, Patients who have scholarships and or recieved sms reminder are likely to show up than not.\n",
    "\n",
    "The work also investigated to know if the gender of a patient is factor that can determine if a patient will show up on not and if women with alcohol are more likely to show up for appointment than male with alcohol.  \n",
    "\n",
    "The exploration shows that the gender does not determine wether a patient will show up or not as the proportion of women that showed up for their appointment were very similar to the proportions of males that showed up for their appointment. Furthermore, men with alcohol are slightly more likely to show up than women. \n",
    "\n",
    "Statistical analysis shows that at an average diseases like hypertension, diabetese and Alcoholism are more common among the old folks with average age of 60, 61 and 49 respectively. \n",
    "\n",
    "#### Limitation\n",
    "All the analysis carried out and conclusions are solely based on the dataset. No machine learning models were carried out."
   ]
  },
  {
   "cell_type": "code",
   "execution_count": null,
   "id": "e7702674",
   "metadata": {},
   "outputs": [],
   "source": []
  },
  {
   "cell_type": "code",
   "execution_count": null,
   "id": "87b26d72",
   "metadata": {},
   "outputs": [],
   "source": []
  }
 ],
 "metadata": {
  "kernelspec": {
   "display_name": "Python 3 (ipykernel)",
   "language": "python",
   "name": "python3"
  },
  "language_info": {
   "codemirror_mode": {
    "name": "ipython",
    "version": 3
   },
   "file_extension": ".py",
   "mimetype": "text/x-python",
   "name": "python",
   "nbconvert_exporter": "python",
   "pygments_lexer": "ipython3",
   "version": "3.9.7"
  }
 },
 "nbformat": 4,
 "nbformat_minor": 5
}
